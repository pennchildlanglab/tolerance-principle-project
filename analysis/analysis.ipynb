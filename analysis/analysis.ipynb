{
 "cells": [
  {
   "cell_type": "markdown",
   "metadata": {},
   "source": [
    "# Analysis for Schuler, Yang, & Newport (JML submission)\n",
    "\n",
    "*by Katie Schuler* \n",
    "*last updated 2021-03-29*\n"
   ]
  },
  {
   "cell_type": "markdown",
   "metadata": {},
   "source": [
    "## Setting up\n",
    "\n",
    "Before we do the analysis, we need to load in our libraries and read in our data. I'll also include a few boilerplate things that make figures pretty, etc. As always, I'll print the session info so people can see what the analysis environment was like. Note that I did this analysis in the [exbuilder/jupyter:r-4.0.3](https://hub.docker.com/r/exbuilder/jupyter/tags?page=1&ordering=last_updated) container. "
   ]
  },
  {
   "cell_type": "code",
   "execution_count": 1,
   "metadata": {},
   "outputs": [
    {
     "name": "stderr",
     "output_type": "stream",
     "text": [
      "\n",
      "Attaching package: ‘gridExtra’\n",
      "\n",
      "\n",
      "The following object is masked from ‘package:dplyr’:\n",
      "\n",
      "    combine\n",
      "\n",
      "\n",
      "Loading required package: Matrix\n",
      "\n",
      "\n",
      "Attaching package: ‘Matrix’\n",
      "\n",
      "\n",
      "The following objects are masked from ‘package:tidyr’:\n",
      "\n",
      "    expand, pack, unpack\n",
      "\n",
      "\n"
     ]
    }
   ],
   "source": [
    "# load tidyverse, but be quiet about it\n",
    "options(tidyverse.quiet = TRUE)\n",
    "library(tidyverse)\n",
    "\n",
    "# load other libraries we'll need \n",
    "library(knitr) # for nice tables\n",
    "library(gridExtra) # put two figures next to each other\n",
    "library(broom) # make ttable output look pretty\n",
    "library(lme4) # for mixed effects models\n",
    "\n",
    "# turn off annoying \"summarise()\" warning in new dplyr\n",
    "options(dplyr.summarise.inform = FALSE)\n",
    "\n",
    "# set all plots to classic theme and center titles\n",
    "theme_set(theme_classic(base_size = 20))\n",
    "theme_update(plot.title = element_text(hjust = 0.5))\n"
   ]
  },
  {
   "cell_type": "code",
   "execution_count": 2,
   "metadata": {
    "scrolled": true
   },
   "outputs": [
    {
     "data": {
      "text/plain": [
       "R version 4.0.3 (2020-10-10)\n",
       "Platform: x86_64-conda-linux-gnu (64-bit)\n",
       "Running under: Ubuntu 20.04.1 LTS\n",
       "\n",
       "Matrix products: default\n",
       "BLAS/LAPACK: /opt/conda/lib/libopenblasp-r0.3.12.so\n",
       "\n",
       "locale:\n",
       " [1] LC_CTYPE=en_US.UTF-8       LC_NUMERIC=C              \n",
       " [3] LC_TIME=en_US.UTF-8        LC_COLLATE=en_US.UTF-8    \n",
       " [5] LC_MONETARY=en_US.UTF-8    LC_MESSAGES=en_US.UTF-8   \n",
       " [7] LC_PAPER=en_US.UTF-8       LC_NAME=C                 \n",
       " [9] LC_ADDRESS=C               LC_TELEPHONE=C            \n",
       "[11] LC_MEASUREMENT=en_US.UTF-8 LC_IDENTIFICATION=C       \n",
       "\n",
       "attached base packages:\n",
       "[1] stats     graphics  grDevices utils     datasets  methods   base     \n",
       "\n",
       "other attached packages:\n",
       " [1] lme4_1.1-26     Matrix_1.3-2    broom_0.7.4     gridExtra_2.3  \n",
       " [5] knitr_1.31      forcats_0.5.1   stringr_1.4.0   dplyr_1.0.4    \n",
       " [9] purrr_0.3.4     readr_1.4.0     tidyr_1.1.2     tibble_3.0.6   \n",
       "[13] ggplot2_3.3.3   tidyverse_1.3.0\n",
       "\n",
       "loaded via a namespace (and not attached):\n",
       " [1] Rcpp_1.0.6        lubridate_1.7.9.2 lattice_0.20-41   getPass_0.2-2    \n",
       " [5] assertthat_0.2.1  digest_0.6.27     IRdisplay_1.0     R6_2.5.0         \n",
       " [9] cellranger_1.1.0  repr_1.1.3        backports_1.2.1   reprex_1.0.0     \n",
       "[13] evaluate_0.14     httr_1.4.2        pillar_1.4.7      rlang_0.4.10     \n",
       "[17] uuid_0.1-4        readxl_1.3.1      minqa_1.2.4       nloptr_1.2.2.2   \n",
       "[21] splines_4.0.3     statmod_1.4.35    munsell_0.5.0     compiler_4.0.3   \n",
       "[25] modelr_0.1.8      xfun_0.20         pkgconfig_2.0.3   base64enc_0.1-3  \n",
       "[29] htmltools_0.5.1.1 tidyselect_1.1.0  crayon_1.3.4      dbplyr_2.1.0     \n",
       "[33] withr_2.4.1       MASS_7.3-53       grid_4.0.3        nlme_3.1-152     \n",
       "[37] jsonlite_1.7.2    gtable_0.3.0      lifecycle_0.2.0   DBI_1.1.1        \n",
       "[41] magrittr_2.0.1    scales_1.1.1      cli_2.3.0         stringi_1.5.3    \n",
       "[45] fs_1.5.0          xml2_1.3.2        ellipsis_0.3.1    generics_0.1.0   \n",
       "[49] vctrs_0.3.6       boot_1.3-27       IRkernel_1.1.1    tools_4.0.3      \n",
       "[53] glue_1.4.2        hms_1.0.0         colorspace_2.0-0  rvest_0.3.6      \n",
       "[57] pbdZMQ_0.3-4      haven_2.3.1      "
      ]
     },
     "metadata": {},
     "output_type": "display_data"
    }
   ],
   "source": [
    "# print session info so we can see what computing environment was like\n",
    "sessionInfo()"
   ]
  },
  {
   "cell_type": "code",
   "execution_count": 3,
   "metadata": {},
   "outputs": [],
   "source": [
    "# read in data\n",
    "exp1_prod <- read.csv('data/exp1_production_data.csv')\n",
    "exp2_prod <- read.csv('data/exp2_production_data.csv')\n",
    "exp2_rate <- read.csv('data/exp2_rating_data.csv')"
   ]
  },
  {
   "cell_type": "markdown",
   "metadata": {},
   "source": [
    "## Experiment 1"
   ]
  },
  {
   "cell_type": "code",
   "execution_count": 4,
   "metadata": {},
   "outputs": [],
   "source": [
    "exp1_production <- filter(exp1_prod, corr_noun == TRUE) %>% \n",
    "\n",
    "    # count how many corr trials each participant had\n",
    "    group_by(random_id, .drop = FALSE) %>%\n",
    "    add_tally(name = 'n') %>%\n",
    "    ungroup %>%\n",
    "\n",
    "    # then groupby marker_type and fill in any the participant didn't use with 0\n",
    "    group_by(age_group, condition, language, n, random_id, marker_type, .drop = FALSE) %>%\n",
    "    tally(name = 'n_marker') %>%\n",
    "    ungroup %>%\n",
    "    complete(nesting(age_group, condition, language, random_id, n), nesting(marker_type), fill = list(n_marker = 0)) %>%\n",
    "   \n",
    "    # reorder the factors so they look nice in our plots\n",
    "    mutate(\n",
    "      usage = n_marker/n*100,\n",
    "      condition = factor(condition, levels = c(\"5R4E\", \"3R6E\")),\n",
    "      age_group = factor(age_group, levels = c(\"child\", \"adult\"), labels = c(\"Child\", \"Adult\")),\n",
    "      marker_type = factor(marker_type, levels = c(\"R\", \"e\", \"null\", \"other\")),\n",
    "      experiment = \"Experiment 1\"\n",
    "    )\n",
    "\n"
   ]
  },
  {
   "cell_type": "markdown",
   "metadata": {},
   "source": [
    "### Participants\n",
    "\n"
   ]
  },
  {
   "cell_type": "code",
   "execution_count": 5,
   "metadata": {},
   "outputs": [
    {
     "data": {
      "text/html": [
       "<table class=\"dataframe\">\n",
       "<caption>A grouped_df: 4 × 3</caption>\n",
       "<thead>\n",
       "\t<tr><th scope=col>age_group</th><th scope=col>condition</th><th scope=col>n_participants</th></tr>\n",
       "\t<tr><th scope=col>&lt;fct&gt;</th><th scope=col>&lt;fct&gt;</th><th scope=col>&lt;int&gt;</th></tr>\n",
       "</thead>\n",
       "<tbody>\n",
       "\t<tr><td>Child</td><td>5R4E</td><td> 7</td></tr>\n",
       "\t<tr><td>Child</td><td>3R6E</td><td> 8</td></tr>\n",
       "\t<tr><td>Adult</td><td>5R4E</td><td>10</td></tr>\n",
       "\t<tr><td>Adult</td><td>3R6E</td><td>10</td></tr>\n",
       "</tbody>\n",
       "</table>\n"
      ],
      "text/latex": [
       "A grouped\\_df: 4 × 3\n",
       "\\begin{tabular}{lll}\n",
       " age\\_group & condition & n\\_participants\\\\\n",
       " <fct> & <fct> & <int>\\\\\n",
       "\\hline\n",
       "\t Child & 5R4E &  7\\\\\n",
       "\t Child & 3R6E &  8\\\\\n",
       "\t Adult & 5R4E & 10\\\\\n",
       "\t Adult & 3R6E & 10\\\\\n",
       "\\end{tabular}\n"
      ],
      "text/markdown": [
       "\n",
       "A grouped_df: 4 × 3\n",
       "\n",
       "| age_group &lt;fct&gt; | condition &lt;fct&gt; | n_participants &lt;int&gt; |\n",
       "|---|---|---|\n",
       "| Child | 5R4E |  7 |\n",
       "| Child | 3R6E |  8 |\n",
       "| Adult | 5R4E | 10 |\n",
       "| Adult | 3R6E | 10 |\n",
       "\n"
      ],
      "text/plain": [
       "  age_group condition n_participants\n",
       "1 Child     5R4E       7            \n",
       "2 Child     3R6E       8            \n",
       "3 Adult     5R4E      10            \n",
       "4 Adult     3R6E      10            "
      ]
     },
     "metadata": {},
     "output_type": "display_data"
    }
   ],
   "source": [
    "# get the number of participants in each age group / condition \n",
    "exp1_production %>%\n",
    "  group_by(age_group, condition) %>%\n",
    "  summarise(n_participants = n_distinct(random_id)) "
   ]
  },
  {
   "cell_type": "markdown",
   "metadata": {},
   "source": [
    "### Results\n",
    "\n",
    "The Tolerance Principle predicts that children should behave categorically. This means they should use the regular form on ALL test trials (form a productive rule) in the 5R4E condition and use the regular form no more than chance in the 3R6E condition. "
   ]
  },
  {
   "cell_type": "markdown",
   "metadata": {},
   "source": [
    "#### Figures\n",
    "\n"
   ]
  },
  {
   "cell_type": "code",
   "execution_count": 6,
   "metadata": {},
   "outputs": [
    {
     "data": {
      "text/html": [
       "<table class=\"dataframe\">\n",
       "<caption>A grouped_df: 4 × 7</caption>\n",
       "<thead>\n",
       "\t<tr><th scope=col>age_group</th><th scope=col>condition</th><th scope=col>marker_type</th><th scope=col>n</th><th scope=col>mean</th><th scope=col>sd</th><th scope=col>sem</th></tr>\n",
       "\t<tr><th scope=col>&lt;fct&gt;</th><th scope=col>&lt;fct&gt;</th><th scope=col>&lt;fct&gt;</th><th scope=col>&lt;int&gt;</th><th scope=col>&lt;dbl&gt;</th><th scope=col>&lt;dbl&gt;</th><th scope=col>&lt;dbl&gt;</th></tr>\n",
       "</thead>\n",
       "<tbody>\n",
       "\t<tr><td>Child</td><td>5R4E</td><td>R</td><td> 7</td><td>91.66667</td><td>22.04793</td><td> 8.333333</td></tr>\n",
       "\t<tr><td>Child</td><td>3R6E</td><td>R</td><td> 8</td><td>16.85606</td><td>34.50744</td><td>12.200221</td></tr>\n",
       "\t<tr><td>Adult</td><td>5R4E</td><td>R</td><td>10</td><td>65.00000</td><td>34.20165</td><td>10.815512</td></tr>\n",
       "\t<tr><td>Adult</td><td>3R6E</td><td>R</td><td>10</td><td>52.04545</td><td>33.18195</td><td>10.493055</td></tr>\n",
       "</tbody>\n",
       "</table>\n"
      ],
      "text/latex": [
       "A grouped\\_df: 4 × 7\n",
       "\\begin{tabular}{lllllll}\n",
       " age\\_group & condition & marker\\_type & n & mean & sd & sem\\\\\n",
       " <fct> & <fct> & <fct> & <int> & <dbl> & <dbl> & <dbl>\\\\\n",
       "\\hline\n",
       "\t Child & 5R4E & R &  7 & 91.66667 & 22.04793 &  8.333333\\\\\n",
       "\t Child & 3R6E & R &  8 & 16.85606 & 34.50744 & 12.200221\\\\\n",
       "\t Adult & 5R4E & R & 10 & 65.00000 & 34.20165 & 10.815512\\\\\n",
       "\t Adult & 3R6E & R & 10 & 52.04545 & 33.18195 & 10.493055\\\\\n",
       "\\end{tabular}\n"
      ],
      "text/markdown": [
       "\n",
       "A grouped_df: 4 × 7\n",
       "\n",
       "| age_group &lt;fct&gt; | condition &lt;fct&gt; | marker_type &lt;fct&gt; | n &lt;int&gt; | mean &lt;dbl&gt; | sd &lt;dbl&gt; | sem &lt;dbl&gt; |\n",
       "|---|---|---|---|---|---|---|\n",
       "| Child | 5R4E | R |  7 | 91.66667 | 22.04793 |  8.333333 |\n",
       "| Child | 3R6E | R |  8 | 16.85606 | 34.50744 | 12.200221 |\n",
       "| Adult | 5R4E | R | 10 | 65.00000 | 34.20165 | 10.815512 |\n",
       "| Adult | 3R6E | R | 10 | 52.04545 | 33.18195 | 10.493055 |\n",
       "\n"
      ],
      "text/plain": [
       "  age_group condition marker_type n  mean     sd       sem      \n",
       "1 Child     5R4E      R            7 91.66667 22.04793  8.333333\n",
       "2 Child     3R6E      R            8 16.85606 34.50744 12.200221\n",
       "3 Adult     5R4E      R           10 65.00000 34.20165 10.815512\n",
       "4 Adult     3R6E      R           10 52.04545 33.18195 10.493055"
      ]
     },
     "metadata": {},
     "output_type": "display_data"
    }
   ],
   "source": [
    "# first get the usage of each marker type by condition and age \n",
    "exp1_production_group <- exp1_production %>%  \n",
    "  group_by(age_group, condition, marker_type) %>%\n",
    "  summarise(n = n(), mean = mean(usage), sd = sd(usage), sem = sd/sqrt(n)) \n",
    "\n",
    "# print usage of regular form for each age_group and condition\n",
    "exp1_production_group %>% filter(marker_type == \"R\") "
   ]
  },
  {
   "cell_type": "code",
   "execution_count": 7,
   "metadata": {},
   "outputs": [
    {
     "data": {
      "image/png": "[encoded data removed]",
      "text/plain": [
       "plot without title"
      ]
     },
     "metadata": {
      "image/png": {
       "height": 300,
       "width": 630
      }
     },
     "output_type": "display_data"
    }
   ],
   "source": [
    "# plot these results for kids and adults to make figure 2\n",
    "options(repr.plot.width = 10.5, repr.plot.height = 5)\n",
    "\n",
    "#input levels\n",
    "input <- data.frame(condition = c(\"5R4E\", \"3R6E\"), input = c(75, 58.3)) %>%\n",
    "  mutate(condition = factor(condition, levels = c(\"5R4E\", \"3R6E\")))\n",
    "\n",
    "\n",
    "exp1_child_prod <- ggplot(filter(exp1_production_group, age_group == \"Child\"), \n",
    "                          aes(marker_type, mean, fill = marker_type))+\n",
    "  facet_grid(.~ condition, scales = \"free\", space = \"free\") +\n",
    "  geom_bar(stat = \"identity\", position = position_dodge(), color = \"black\") +\n",
    "  geom_errorbar(aes(ymin = mean - sem,\n",
    "                    ymax = mean + sem), \n",
    "                    position = position_dodge(width=0.9), width = 0.25)+\n",
    "  coord_cartesian(ylim = c(0, 100)) +\n",
    "  labs(x = \"\", y = \"Usage of plural marker\", title = \"Children\") +\n",
    "  theme(legend.position = \"None\") +\n",
    "  scale_fill_grey() \n",
    "\n",
    "\n",
    "exp1_adult_prod <- ggplot(filter(exp1_production_group, age_group == \"Adult\"), \n",
    "                          aes(marker_type, mean, fill = marker_type))+\n",
    "  facet_grid(.~ condition, scales = \"free\", space = \"free\") +\n",
    "  geom_bar(stat = \"identity\", position = position_dodge(), color = \"black\") +\n",
    "  geom_errorbar(aes(ymin = mean - sem,\n",
    "                    ymax = mean + sem), \n",
    "                    position = position_dodge(width=0.9), width = 0.25)+\n",
    "  coord_cartesian(ylim = c(0, 100)) +\n",
    "  labs(x = \"\", y = \"Usage of plural marker\", title = \"Adults\") +\n",
    "  theme(legend.position = \"None\") +\n",
    "  scale_fill_grey() \n",
    "\n",
    "grid.arrange(exp1_child_prod, exp1_adult_prod, ncol=2)"
   ]
  },
  {
   "cell_type": "code",
   "execution_count": 8,
   "metadata": {},
   "outputs": [
    {
     "data": {
      "image/png": "[encoded data removed]",
      "text/plain": [
       "plot without title"
      ]
     },
     "metadata": {
      "image/png": {
       "height": 300,
       "width": 360
      }
     },
     "output_type": "display_data"
    }
   ],
   "source": [
    "# make figure 3: usage of regular for by individuals\n",
    "options(repr.plot.width = 6, repr.plot.height = 5)\n",
    "\n",
    "exp1_production %>%\n",
    "    filter(marker_type == \"R\") %>%\n",
    "    ggplot(aes(x = condition, y = usage)) +\n",
    "    facet_grid(.~age_group) + \n",
    "    geom_dotplot(binaxis='y', stackdir='center', dotsize=1.0, aes(fill = marker_type), binwidth = 4) +\n",
    "    stat_summary(fun.data = mean_se, geom = \"errorbar\", color = \"black\", width = 0.2) +\n",
    "    coord_cartesian(ylim = c(0, 100)) +\n",
    "    scale_fill_grey() +\n",
    "    theme(legend.position = \"None\") +\n",
    "    labs(y = \"Usage of regular form\", x = \"\", title = \"Experiment 1\")"
   ]
  },
  {
   "cell_type": "code",
   "execution_count": 9,
   "metadata": {},
   "outputs": [
    {
     "data": {
      "image/png": "[encoded data removed]",
      "text/plain": [
       "plot without title"
      ]
     },
     "metadata": {
      "image/png": {
       "height": 360,
       "width": 420
      }
     },
     "output_type": "display_data"
    }
   ],
   "source": [
    "# Make figure 4: usage of regular form compared to token fq of input\n",
    "options(repr.plot.width = 7, repr.plot.height = 6)\n",
    "\n",
    "exp1_production_group %>%\n",
    "    filter(marker_type == \"R\") %>%\n",
    "    mutate(input = ifelse(condition == \"5R4E\", 75, 58.3)) %>%\n",
    "    ggplot(aes(condition, mean, fill = age_group)) +\n",
    "      facet_grid(.~age_group, labeller = label_wrap_gen(width=10)) +\n",
    "      geom_bar(stat=\"identity\", width = 0.75, color = 'black') +\n",
    "      geom_errorbar(aes(ymin = mean - sem,\n",
    "                        ymax = mean + sem), \n",
    "                        position = position_dodge(width=0.9), width = 0.25)+\n",
    "      geom_errorbar(aes(ymax=input, ymin=input), linetype=\"dashed\") +\n",
    "      labs(x = \"\", y = \"Usage of regular form\") +\n",
    "      scale_fill_manual( values = c(\"gray\", \"gray\")) +\n",
    "      theme(legend.position = \"None\")"
   ]
  },
  {
   "cell_type": "markdown",
   "metadata": {},
   "source": [
    "#### t-tests against hypothesized values\n",
    "\n",
    "We'll do logistic regression to see if use of the regular form differs across conditions; but our actual hypothesis is whether children in 5R4E always use the regular form and those in 3R6E use it no more than chance. We can test this with ttests against hypothesized values."
   ]
  },
  {
   "cell_type": "code",
   "execution_count": 10,
   "metadata": {},
   "outputs": [
    {
     "data": {
      "text/html": [
       "<table class=\"dataframe\">\n",
       "<caption>A grouped_df: 4 × 10</caption>\n",
       "<thead>\n",
       "\t<tr><th scope=col>age_group</th><th scope=col>condition</th><th scope=col>estimate</th><th scope=col>statistic</th><th scope=col>p.value</th><th scope=col>parameter</th><th scope=col>conf.low</th><th scope=col>conf.high</th><th scope=col>method</th><th scope=col>alternative</th></tr>\n",
       "\t<tr><th scope=col>&lt;fct&gt;</th><th scope=col>&lt;fct&gt;</th><th scope=col>&lt;dbl&gt;</th><th scope=col>&lt;dbl&gt;</th><th scope=col>&lt;dbl&gt;</th><th scope=col>&lt;dbl&gt;</th><th scope=col>&lt;dbl&gt;</th><th scope=col>&lt;dbl&gt;</th><th scope=col>&lt;chr&gt;</th><th scope=col>&lt;chr&gt;</th></tr>\n",
       "</thead>\n",
       "<tbody>\n",
       "\t<tr><td>Child</td><td>5R4E</td><td>91.66667</td><td>-1.000000</td><td>0.177958842</td><td>6</td><td>     -Inf</td><td>107.85984</td><td>One Sample t-test</td><td>less   </td></tr>\n",
       "\t<tr><td>Child</td><td>3R6E</td><td>16.85606</td><td> 0.210329</td><td>0.419701035</td><td>7</td><td>-6.258217</td><td>      Inf</td><td>One Sample t-test</td><td>greater</td></tr>\n",
       "\t<tr><td>Adult</td><td>5R4E</td><td>65.00000</td><td>-3.236093</td><td>0.005111206</td><td>9</td><td>     -Inf</td><td> 84.82606</td><td>One Sample t-test</td><td>less   </td></tr>\n",
       "\t<tr><td>Adult</td><td>3R6E</td><td>52.04545</td><td> 3.598138</td><td>0.002882524</td><td>9</td><td>32.810500</td><td>      Inf</td><td>One Sample t-test</td><td>greater</td></tr>\n",
       "</tbody>\n",
       "</table>\n"
      ],
      "text/latex": [
       "A grouped\\_df: 4 × 10\n",
       "\\begin{tabular}{llllllllll}\n",
       " age\\_group & condition & estimate & statistic & p.value & parameter & conf.low & conf.high & method & alternative\\\\\n",
       " <fct> & <fct> & <dbl> & <dbl> & <dbl> & <dbl> & <dbl> & <dbl> & <chr> & <chr>\\\\\n",
       "\\hline\n",
       "\t Child & 5R4E & 91.66667 & -1.000000 & 0.177958842 & 6 &      -Inf & 107.85984 & One Sample t-test & less   \\\\\n",
       "\t Child & 3R6E & 16.85606 &  0.210329 & 0.419701035 & 7 & -6.258217 &       Inf & One Sample t-test & greater\\\\\n",
       "\t Adult & 5R4E & 65.00000 & -3.236093 & 0.005111206 & 9 &      -Inf &  84.82606 & One Sample t-test & less   \\\\\n",
       "\t Adult & 3R6E & 52.04545 &  3.598138 & 0.002882524 & 9 & 32.810500 &       Inf & One Sample t-test & greater\\\\\n",
       "\\end{tabular}\n"
      ],
      "text/markdown": [
       "\n",
       "A grouped_df: 4 × 10\n",
       "\n",
       "| age_group &lt;fct&gt; | condition &lt;fct&gt; | estimate &lt;dbl&gt; | statistic &lt;dbl&gt; | p.value &lt;dbl&gt; | parameter &lt;dbl&gt; | conf.low &lt;dbl&gt; | conf.high &lt;dbl&gt; | method &lt;chr&gt; | alternative &lt;chr&gt; |\n",
       "|---|---|---|---|---|---|---|---|---|---|\n",
       "| Child | 5R4E | 91.66667 | -1.000000 | 0.177958842 | 6 |      -Inf | 107.85984 | One Sample t-test | less    |\n",
       "| Child | 3R6E | 16.85606 |  0.210329 | 0.419701035 | 7 | -6.258217 |       Inf | One Sample t-test | greater |\n",
       "| Adult | 5R4E | 65.00000 | -3.236093 | 0.005111206 | 9 |      -Inf |  84.82606 | One Sample t-test | less    |\n",
       "| Adult | 3R6E | 52.04545 |  3.598138 | 0.002882524 | 9 | 32.810500 |       Inf | One Sample t-test | greater |\n",
       "\n"
      ],
      "text/plain": [
       "  age_group condition estimate statistic p.value     parameter conf.low \n",
       "1 Child     5R4E      91.66667 -1.000000 0.177958842 6              -Inf\n",
       "2 Child     3R6E      16.85606  0.210329 0.419701035 7         -6.258217\n",
       "3 Adult     5R4E      65.00000 -3.236093 0.005111206 9              -Inf\n",
       "4 Adult     3R6E      52.04545  3.598138 0.002882524 9         32.810500\n",
       "  conf.high method            alternative\n",
       "1 107.85984 One Sample t-test less       \n",
       "2       Inf One Sample t-test greater    \n",
       "3  84.82606 One Sample t-test less       \n",
       "4       Inf One Sample t-test greater    "
      ]
     },
     "metadata": {},
     "output_type": "display_data"
    }
   ],
   "source": [
    "# do a one sample ttest against the Tolerance Principle's predictions\n",
    "exp1_production %>% \n",
    "  filter(marker_type %in% c(\"R\")) %>%  \n",
    "  mutate(mu = ifelse(condition == \"5R4E\", 100, 14.29),\n",
    "        alt = ifelse(condition == \"5R4E\", \"less\", \"greater\"))%>%\n",
    "  group_by(age_group, condition) %>%\n",
    "  do(tidy(t.test(x=.$usage, mu=min(.$mu),  data=., alternative=min(.$alt)))) "
   ]
  },
  {
   "cell_type": "markdown",
   "metadata": {},
   "source": [
    "Kids use the regualar form not greater than chance in 3R6E and not less than 100% in the 5R4E condition. Adults on the other hand use it significantly less than all the time in 5R4E and signficaintly greater than chance in the 3R6E condition. "
   ]
  },
  {
   "cell_type": "code",
   "execution_count": 11,
   "metadata": {},
   "outputs": [
    {
     "data": {
      "text/html": [
       "<table class=\"dataframe\">\n",
       "<caption>A grouped_df: 4 × 10</caption>\n",
       "<thead>\n",
       "\t<tr><th scope=col>age_group</th><th scope=col>condition</th><th scope=col>estimate</th><th scope=col>statistic</th><th scope=col>p.value</th><th scope=col>parameter</th><th scope=col>conf.low</th><th scope=col>conf.high</th><th scope=col>method</th><th scope=col>alternative</th></tr>\n",
       "\t<tr><th scope=col>&lt;fct&gt;</th><th scope=col>&lt;fct&gt;</th><th scope=col>&lt;dbl&gt;</th><th scope=col>&lt;dbl&gt;</th><th scope=col>&lt;dbl&gt;</th><th scope=col>&lt;dbl&gt;</th><th scope=col>&lt;dbl&gt;</th><th scope=col>&lt;dbl&gt;</th><th scope=col>&lt;chr&gt;</th><th scope=col>&lt;chr&gt;</th></tr>\n",
       "</thead>\n",
       "<tbody>\n",
       "\t<tr><td>Child</td><td>5R4E</td><td>91.66667</td><td> 1.9388000</td><td>0.10060915</td><td>6</td><td> 71.27573</td><td>112.05760</td><td>One Sample t-test</td><td>two.sided</td></tr>\n",
       "\t<tr><td>Child</td><td>3R6E</td><td>16.85606</td><td>-3.4691125</td><td>0.01041838</td><td>7</td><td>-11.99288</td><td> 45.70500</td><td>One Sample t-test</td><td>two.sided</td></tr>\n",
       "\t<tr><td>Adult</td><td>5R4E</td><td>65.00000</td><td>-0.9717524</td><td>0.35656434</td><td>9</td><td> 40.53361</td><td> 89.46639</td><td>One Sample t-test</td><td>two.sided</td></tr>\n",
       "\t<tr><td>Adult</td><td>3R6E</td><td>52.04545</td><td>-0.6799303</td><td>0.51365595</td><td>9</td><td> 28.30852</td><td> 75.78239</td><td>One Sample t-test</td><td>two.sided</td></tr>\n",
       "</tbody>\n",
       "</table>\n"
      ],
      "text/latex": [
       "A grouped\\_df: 4 × 10\n",
       "\\begin{tabular}{llllllllll}\n",
       " age\\_group & condition & estimate & statistic & p.value & parameter & conf.low & conf.high & method & alternative\\\\\n",
       " <fct> & <fct> & <dbl> & <dbl> & <dbl> & <dbl> & <dbl> & <dbl> & <chr> & <chr>\\\\\n",
       "\\hline\n",
       "\t Child & 5R4E & 91.66667 &  1.9388000 & 0.10060915 & 6 &  71.27573 & 112.05760 & One Sample t-test & two.sided\\\\\n",
       "\t Child & 3R6E & 16.85606 & -3.4691125 & 0.01041838 & 7 & -11.99288 &  45.70500 & One Sample t-test & two.sided\\\\\n",
       "\t Adult & 5R4E & 65.00000 & -0.9717524 & 0.35656434 & 9 &  40.53361 &  89.46639 & One Sample t-test & two.sided\\\\\n",
       "\t Adult & 3R6E & 52.04545 & -0.6799303 & 0.51365595 & 9 &  28.30852 &  75.78239 & One Sample t-test & two.sided\\\\\n",
       "\\end{tabular}\n"
      ],
      "text/markdown": [
       "\n",
       "A grouped_df: 4 × 10\n",
       "\n",
       "| age_group &lt;fct&gt; | condition &lt;fct&gt; | estimate &lt;dbl&gt; | statistic &lt;dbl&gt; | p.value &lt;dbl&gt; | parameter &lt;dbl&gt; | conf.low &lt;dbl&gt; | conf.high &lt;dbl&gt; | method &lt;chr&gt; | alternative &lt;chr&gt; |\n",
       "|---|---|---|---|---|---|---|---|---|---|\n",
       "| Child | 5R4E | 91.66667 |  1.9388000 | 0.10060915 | 6 |  71.27573 | 112.05760 | One Sample t-test | two.sided |\n",
       "| Child | 3R6E | 16.85606 | -3.4691125 | 0.01041838 | 7 | -11.99288 |  45.70500 | One Sample t-test | two.sided |\n",
       "| Adult | 5R4E | 65.00000 | -0.9717524 | 0.35656434 | 9 |  40.53361 |  89.46639 | One Sample t-test | two.sided |\n",
       "| Adult | 3R6E | 52.04545 | -0.6799303 | 0.51365595 | 9 |  28.30852 |  75.78239 | One Sample t-test | two.sided |\n",
       "\n"
      ],
      "text/plain": [
       "  age_group condition estimate statistic  p.value    parameter conf.low \n",
       "1 Child     5R4E      91.66667  1.9388000 0.10060915 6          71.27573\n",
       "2 Child     3R6E      16.85606 -3.4691125 0.01041838 7         -11.99288\n",
       "3 Adult     5R4E      65.00000 -0.9717524 0.35656434 9          40.53361\n",
       "4 Adult     3R6E      52.04545 -0.6799303 0.51365595 9          28.30852\n",
       "  conf.high method            alternative\n",
       "1 112.05760 One Sample t-test two.sided  \n",
       "2  45.70500 One Sample t-test two.sided  \n",
       "3  89.46639 One Sample t-test two.sided  \n",
       "4  75.78239 One Sample t-test two.sided  "
      ]
     },
     "metadata": {},
     "output_type": "display_data"
    }
   ],
   "source": [
    "# next let's check if kids or adults match the Token frequency \n",
    "exp1_production %>% \n",
    "  filter(marker_type %in% c(\"R\")) %>%  \n",
    "  mutate(mu = ifelse(condition == \"5R4E\", 75.51, 59.18), alt = \"two.sided\")%>%\n",
    "  group_by(age_group, condition) %>%\n",
    "  do(tidy(t.test(x=.$usage, mu=min(.$mu),  data=., alternative=min(.$alt)))) "
   ]
  },
  {
   "cell_type": "markdown",
   "metadata": {},
   "source": [
    "#### logistic mixed effects regression\n",
    "\n",
    "Next we'll use a logistic mixed effects model to predict use of the regular form by condition in kids, then a seperate model for adults. After that, we'll do a model with both, including age_group as an interaction term. We're using dummy coding here and a simple random effects structure (1|random_id). "
   ]
  },
  {
   "cell_type": "code",
   "execution_count": 12,
   "metadata": {},
   "outputs": [
    {
     "data": {
      "text/plain": [
       "Generalized linear mixed model fit by maximum likelihood (Laplace\n",
       "  Approximation) [glmerMod]\n",
       " Family: binomial  ( logit )\n",
       "Formula: regular_form ~ condition + (1 | random_id)\n",
       "   Data: filter(exp1_prod, corr_noun == TRUE, age_group == \"child\")\n",
       "\n",
       "     AIC      BIC   logLik deviance df.resid \n",
       "    67.1     76.5    -30.5     61.1      166 \n",
       "\n",
       "Scaled residuals: \n",
       "     Min       1Q   Median       3Q      Max \n",
       "-0.86142 -0.01301  0.00594  0.00594  2.28615 \n",
       "\n",
       "Random effects:\n",
       " Groups    Name        Variance Std.Dev.\n",
       " random_id (Intercept) 94.24    9.708   \n",
       "Number of obs: 169, groups:  random_id, 15\n",
       "\n",
       "Fixed effects:\n",
       "              Estimate Std. Error z value Pr(>|z|)   \n",
       "(Intercept)     -8.509      3.170  -2.684  0.00727 **\n",
       "condition5R4E   18.721      5.813   3.221  0.00128 **\n",
       "---\n",
       "Signif. codes:  0 ‘***’ 0.001 ‘**’ 0.01 ‘*’ 0.05 ‘.’ 0.1 ‘ ’ 1\n",
       "\n",
       "Correlation of Fixed Effects:\n",
       "            (Intr)\n",
       "conditn5R4E -0.818"
      ]
     },
     "metadata": {},
     "output_type": "display_data"
    }
   ],
   "source": [
    "# kid model\n",
    "logme_exp1_kids <- glmer(regular_form ~ condition + (1|random_id), \n",
    "                         family = \"binomial\",\n",
    "                         data = filter(exp1_prod, corr_noun == TRUE, age_group == \"child\"))\n",
    "summary(logme_exp1_kids)"
   ]
  },
  {
   "cell_type": "code",
   "execution_count": 13,
   "metadata": {},
   "outputs": [
    {
     "data": {
      "text/plain": [
       "Generalized linear mixed model fit by maximum likelihood (Laplace\n",
       "  Approximation) [glmerMod]\n",
       " Family: binomial  ( logit )\n",
       "Formula: regular_form ~ condition + (1 | random_id)\n",
       "   Data: filter(exp1_prod, corr_noun == TRUE, age_group == \"adult\")\n",
       "\n",
       "     AIC      BIC   logLik deviance df.resid \n",
       "   257.8    268.2   -125.9    251.8      236 \n",
       "\n",
       "Scaled residuals: \n",
       "    Min      1Q  Median      3Q     Max \n",
       "-1.7303 -0.5101  0.1941  0.6979  2.7155 \n",
       "\n",
       "Random effects:\n",
       " Groups    Name        Variance Std.Dev.\n",
       " random_id (Intercept) 5.063    2.25    \n",
       "Number of obs: 239, groups:  random_id, 20\n",
       "\n",
       "Fixed effects:\n",
       "              Estimate Std. Error z value Pr(>|z|)\n",
       "(Intercept)     0.1943     0.7637   0.254    0.799\n",
       "condition5R4E   0.8788     1.0884   0.807    0.419\n",
       "\n",
       "Correlation of Fixed Effects:\n",
       "            (Intr)\n",
       "conditn5R4E -0.699"
      ]
     },
     "metadata": {},
     "output_type": "display_data"
    }
   ],
   "source": [
    "# adult model\n",
    "logme_exp1_adults <- glmer(regular_form ~ condition + (1|random_id), \n",
    "                           family = \"binomial\",\n",
    "                           data = filter(exp1_prod, corr_noun == TRUE, age_group == \"adult\"))\n",
    "summary(logme_exp1_adults)"
   ]
  },
  {
   "cell_type": "code",
   "execution_count": 14,
   "metadata": {},
   "outputs": [
    {
     "data": {
      "text/plain": [
       "Generalized linear mixed model fit by maximum likelihood (Laplace\n",
       "  Approximation) [glmerMod]\n",
       " Family: binomial  ( logit )\n",
       "Formula: regular_form ~ condition * age_group + (1 | random_id)\n",
       "   Data: filter(exp1_prod, corr_noun == TRUE)\n",
       "\n",
       "     AIC      BIC   logLik deviance df.resid \n",
       "   328.4    348.5   -159.2    318.4      403 \n",
       "\n",
       "Scaled residuals: \n",
       "     Min       1Q   Median       3Q      Max \n",
       "-1.73859 -0.20258  0.04726  0.17213  2.92513 \n",
       "\n",
       "Random effects:\n",
       " Groups    Name        Variance Std.Dev.\n",
       " random_id (Intercept) 9.427    3.07    \n",
       "Number of obs: 408, groups:  random_id, 35\n",
       "\n",
       "Fixed effects:\n",
       "                             Estimate Std. Error z value Pr(>|z|)   \n",
       "(Intercept)                    0.2638     1.0465   0.252  0.80100   \n",
       "condition5R4E                  1.0021     1.4998   0.668  0.50404   \n",
       "age_groupchild                -3.9320     1.8465  -2.129  0.03322 * \n",
       "condition5R4E:age_groupchild   8.5185     2.8530   2.986  0.00283 **\n",
       "---\n",
       "Signif. codes:  0 ‘***’ 0.001 ‘**’ 0.01 ‘*’ 0.05 ‘.’ 0.1 ‘ ’ 1\n",
       "\n",
       "Correlation of Fixed Effects:\n",
       "            (Intr) cn5R4E ag_grp\n",
       "conditn5R4E -0.691              \n",
       "age_grpchld -0.588  0.368       \n",
       "cndtn5R4E:_  0.395 -0.489 -0.736"
      ]
     },
     "metadata": {},
     "output_type": "display_data"
    }
   ],
   "source": [
    "# both model with age interaction\n",
    "logme_exp1_both <- glmer(regular_form ~ condition * age_group + (1|random_id), \n",
    "                                family = \"binomial\", \n",
    "                                data = filter(exp1_prod, corr_noun == TRUE))\n",
    "summary(logme_exp1_both)"
   ]
  },
  {
   "cell_type": "markdown",
   "metadata": {},
   "source": [
    "## Experiment 2"
   ]
  },
  {
   "cell_type": "code",
   "execution_count": 15,
   "metadata": {},
   "outputs": [],
   "source": [
    "exp2_production <- filter(exp2_prod, corr_noun == \"true\") %>% \n",
    "\n",
    "    # count how many corr trials each participant had\n",
    "    group_by(random_id, .drop = FALSE) %>%\n",
    "    add_tally(name = 'n') %>%\n",
    "    ungroup %>%\n",
    "\n",
    "    # then groupby marker_type and fill in any the participant didn't use with 0\n",
    "    group_by(age_group, condition, language, n, random_id, marker_type, .drop = FALSE) %>%\n",
    "    tally(name = 'n_marker') %>%\n",
    "    ungroup %>%\n",
    "    complete(nesting(age_group, condition, language, random_id, n), nesting(marker_type), fill = list(n_marker = 0)) %>%\n",
    "   \n",
    "    # reorder the factors so they look nice in our plots\n",
    "    mutate(\n",
    "      usage = n_marker/n*100,\n",
    "      condition = factor(condition, levels = c(\"5R4E\", \"3R6E\")),\n",
    "      age_group = factor(age_group, levels = c(\"child\", \"adult\"), labels = c(\"Child\", \"Adult\")),\n",
    "      marker_type = factor(marker_type, levels = c(\"R\", \"e\", \"null\", \"other\")),\n",
    "      experiment = \"Experiment 2\"\n",
    "    )\n"
   ]
  },
  {
   "cell_type": "markdown",
   "metadata": {},
   "source": [
    "### Participants\n",
    "\n"
   ]
  },
  {
   "cell_type": "code",
   "execution_count": 16,
   "metadata": {},
   "outputs": [
    {
     "data": {
      "text/html": [
       "<table class=\"dataframe\">\n",
       "<caption>A grouped_df: 4 × 3</caption>\n",
       "<thead>\n",
       "\t<tr><th scope=col>age_group</th><th scope=col>condition</th><th scope=col>n_participants</th></tr>\n",
       "\t<tr><th scope=col>&lt;fct&gt;</th><th scope=col>&lt;fct&gt;</th><th scope=col>&lt;int&gt;</th></tr>\n",
       "</thead>\n",
       "<tbody>\n",
       "\t<tr><td>Child</td><td>5R4E</td><td>13</td></tr>\n",
       "\t<tr><td>Child</td><td>3R6E</td><td> 7</td></tr>\n",
       "\t<tr><td>Adult</td><td>5R4E</td><td> 8</td></tr>\n",
       "\t<tr><td>Adult</td><td>3R6E</td><td> 7</td></tr>\n",
       "</tbody>\n",
       "</table>\n"
      ],
      "text/latex": [
       "A grouped\\_df: 4 × 3\n",
       "\\begin{tabular}{lll}\n",
       " age\\_group & condition & n\\_participants\\\\\n",
       " <fct> & <fct> & <int>\\\\\n",
       "\\hline\n",
       "\t Child & 5R4E & 13\\\\\n",
       "\t Child & 3R6E &  7\\\\\n",
       "\t Adult & 5R4E &  8\\\\\n",
       "\t Adult & 3R6E &  7\\\\\n",
       "\\end{tabular}\n"
      ],
      "text/markdown": [
       "\n",
       "A grouped_df: 4 × 3\n",
       "\n",
       "| age_group &lt;fct&gt; | condition &lt;fct&gt; | n_participants &lt;int&gt; |\n",
       "|---|---|---|\n",
       "| Child | 5R4E | 13 |\n",
       "| Child | 3R6E |  7 |\n",
       "| Adult | 5R4E |  8 |\n",
       "| Adult | 3R6E |  7 |\n",
       "\n"
      ],
      "text/plain": [
       "  age_group condition n_participants\n",
       "1 Child     5R4E      13            \n",
       "2 Child     3R6E       7            \n",
       "3 Adult     5R4E       8            \n",
       "4 Adult     3R6E       7            "
      ]
     },
     "metadata": {},
     "output_type": "display_data"
    }
   ],
   "source": [
    "# get the number of participants in each age group / condition with at least 6 nouns correct\n",
    "exp2_production %>%\n",
    "  group_by(age_group, condition) %>%\n",
    "  summarise(n_participants = n_distinct(random_id)) "
   ]
  },
  {
   "cell_type": "markdown",
   "metadata": {},
   "source": [
    "### Results\n",
    "\n",
    "The Tolerance Principle predicts that children should behave categorically. This means they should use the regular form on ALL test trials (form a productive rule) in the 5R4E condition and use the regular form no more than chance in the 3R6E condition. "
   ]
  },
  {
   "cell_type": "markdown",
   "metadata": {},
   "source": [
    "#### Figures\n",
    "\n"
   ]
  },
  {
   "cell_type": "code",
   "execution_count": 17,
   "metadata": {},
   "outputs": [
    {
     "data": {
      "text/html": [
       "<table class=\"dataframe\">\n",
       "<caption>A grouped_df: 4 × 7</caption>\n",
       "<thead>\n",
       "\t<tr><th scope=col>age_group</th><th scope=col>condition</th><th scope=col>marker_type</th><th scope=col>n</th><th scope=col>mean</th><th scope=col>sd</th><th scope=col>sem</th></tr>\n",
       "\t<tr><th scope=col>&lt;fct&gt;</th><th scope=col>&lt;fct&gt;</th><th scope=col>&lt;fct&gt;</th><th scope=col>&lt;int&gt;</th><th scope=col>&lt;dbl&gt;</th><th scope=col>&lt;dbl&gt;</th><th scope=col>&lt;dbl&gt;</th></tr>\n",
       "</thead>\n",
       "<tbody>\n",
       "\t<tr><td>Child</td><td>5R4E</td><td>R</td><td>13</td><td>54.627040</td><td>44.87964</td><td>12.447372</td></tr>\n",
       "\t<tr><td>Child</td><td>3R6E</td><td>R</td><td> 7</td><td> 7.142857</td><td>18.89822</td><td> 7.142857</td></tr>\n",
       "\t<tr><td>Adult</td><td>5R4E</td><td>R</td><td> 8</td><td>71.117424</td><td>25.01291</td><td> 8.843399</td></tr>\n",
       "\t<tr><td>Adult</td><td>3R6E</td><td>R</td><td> 7</td><td>63.095238</td><td>10.60348</td><td> 4.007740</td></tr>\n",
       "</tbody>\n",
       "</table>\n"
      ],
      "text/latex": [
       "A grouped\\_df: 4 × 7\n",
       "\\begin{tabular}{lllllll}\n",
       " age\\_group & condition & marker\\_type & n & mean & sd & sem\\\\\n",
       " <fct> & <fct> & <fct> & <int> & <dbl> & <dbl> & <dbl>\\\\\n",
       "\\hline\n",
       "\t Child & 5R4E & R & 13 & 54.627040 & 44.87964 & 12.447372\\\\\n",
       "\t Child & 3R6E & R &  7 &  7.142857 & 18.89822 &  7.142857\\\\\n",
       "\t Adult & 5R4E & R &  8 & 71.117424 & 25.01291 &  8.843399\\\\\n",
       "\t Adult & 3R6E & R &  7 & 63.095238 & 10.60348 &  4.007740\\\\\n",
       "\\end{tabular}\n"
      ],
      "text/markdown": [
       "\n",
       "A grouped_df: 4 × 7\n",
       "\n",
       "| age_group &lt;fct&gt; | condition &lt;fct&gt; | marker_type &lt;fct&gt; | n &lt;int&gt; | mean &lt;dbl&gt; | sd &lt;dbl&gt; | sem &lt;dbl&gt; |\n",
       "|---|---|---|---|---|---|---|\n",
       "| Child | 5R4E | R | 13 | 54.627040 | 44.87964 | 12.447372 |\n",
       "| Child | 3R6E | R |  7 |  7.142857 | 18.89822 |  7.142857 |\n",
       "| Adult | 5R4E | R |  8 | 71.117424 | 25.01291 |  8.843399 |\n",
       "| Adult | 3R6E | R |  7 | 63.095238 | 10.60348 |  4.007740 |\n",
       "\n"
      ],
      "text/plain": [
       "  age_group condition marker_type n  mean      sd       sem      \n",
       "1 Child     5R4E      R           13 54.627040 44.87964 12.447372\n",
       "2 Child     3R6E      R            7  7.142857 18.89822  7.142857\n",
       "3 Adult     5R4E      R            8 71.117424 25.01291  8.843399\n",
       "4 Adult     3R6E      R            7 63.095238 10.60348  4.007740"
      ]
     },
     "metadata": {},
     "output_type": "display_data"
    }
   ],
   "source": [
    "# first get the usage of each marker type by condition and age \n",
    "exp2_production_group <- exp2_production %>%  \n",
    "  group_by(age_group, condition, marker_type) %>%\n",
    "  summarise(n = n(), mean = mean(usage), sd = sd(usage), sem = sd/sqrt(n)) \n",
    "\n",
    "# print usage of regular form for each age_group and condition\n",
    "exp2_production_group %>% filter(marker_type == \"R\") "
   ]
  },
  {
   "cell_type": "code",
   "execution_count": 18,
   "metadata": {},
   "outputs": [
    {
     "data": {
      "image/png": "[encoded data removed]",
      "text/plain": [
       "plot without title"
      ]
     },
     "metadata": {
      "image/png": {
       "height": 300,
       "width": 630
      }
     },
     "output_type": "display_data"
    }
   ],
   "source": [
    "# plot these results for kids and adults to make figure 5\n",
    "options(repr.plot.width = 10.5, repr.plot.height = 5)\n",
    "\n",
    "exp2_child_prod <- ggplot(filter(exp2_production_group, age_group == \"Child\"), \n",
    "                          aes(marker_type, mean, fill = marker_type))+\n",
    "  facet_grid(.~ condition, scales = \"free\", space = \"free\") +\n",
    "  geom_bar(stat = \"identity\", position = position_dodge(), color = \"black\") +\n",
    "  geom_errorbar(aes(ymin = mean - sem,\n",
    "                    ymax = mean + sem), \n",
    "                    position = position_dodge(width=0.9), width = 0.25)+\n",
    "  coord_cartesian(ylim = c(0, 100)) +\n",
    "  labs(x = \"\", y = \"Usage of plural marker\", title = \"Children\") +\n",
    "  theme(legend.position = \"None\") +\n",
    "  scale_fill_grey() \n",
    "\n",
    "\n",
    "exp2_adult_prod <- ggplot(filter(exp2_production_group, age_group == \"Adult\"), \n",
    "                          aes(marker_type, mean, fill = marker_type))+\n",
    "  facet_grid(.~ condition, scales = \"free\", space = \"free\") +\n",
    "  geom_bar(stat = \"identity\", position = position_dodge(), color = \"black\") +\n",
    "  geom_errorbar(aes(ymin = mean - sem,\n",
    "                    ymax = mean + sem), \n",
    "                    position = position_dodge(width=0.9), width = 0.25)+\n",
    "  coord_cartesian(ylim = c(0, 100)) +\n",
    "  labs(x = \"\", y = \"Usage of plural marker\", title = \"Adults\") +\n",
    "  theme(legend.position = \"None\") +\n",
    "  scale_fill_grey() \n",
    "\n",
    "\n",
    "\n",
    "grid.arrange(exp2_child_prod, exp2_adult_prod, ncol=2)"
   ]
  },
  {
   "cell_type": "code",
   "execution_count": 19,
   "metadata": {},
   "outputs": [
    {
     "data": {
      "image/png": "[encoded data removed]",
      "text/plain": [
       "plot without title"
      ]
     },
     "metadata": {
      "image/png": {
       "height": 300,
       "width": 360
      }
     },
     "output_type": "display_data"
    }
   ],
   "source": [
    "# make figure 6: usage of regular for by individuals\n",
    "options(repr.plot.width = 6, repr.plot.height = 5)\n",
    "\n",
    "exp2_production %>%\n",
    "    filter(marker_type == \"R\") %>%\n",
    "    ggplot(aes(x = condition, y = usage)) +\n",
    "    facet_grid(.~age_group) + \n",
    "    geom_dotplot(binaxis='y', stackdir='center', dotsize=1.0, aes(fill = marker_type), binwidth = 4) +\n",
    "    stat_summary(fun.data = mean_se, geom = \"errorbar\", color = \"black\", width = 0.2) +\n",
    "    coord_cartesian(ylim = c(0, 100)) +\n",
    "    scale_fill_grey() +\n",
    "    theme(legend.position = \"None\") +\n",
    "    labs(y = \"Usage of regular form\", x = \"\", title = \"Experiment 2\")"
   ]
  },
  {
   "cell_type": "markdown",
   "metadata": {},
   "source": [
    "#### t-tests against hypothesized values\n",
    "\n",
    "We'll do logistic regression to see if use of the regular form differs across conditions; but our actual hypothesis is whether children in 5R4E always use the regular form and those in 3R6E use it no more than chance. We can test this with ttests against hypothesized values."
   ]
  },
  {
   "cell_type": "code",
   "execution_count": 20,
   "metadata": {},
   "outputs": [
    {
     "data": {
      "text/html": [
       "<table class=\"dataframe\">\n",
       "<caption>A grouped_df: 4 × 10</caption>\n",
       "<thead>\n",
       "\t<tr><th scope=col>age_group</th><th scope=col>condition</th><th scope=col>estimate</th><th scope=col>statistic</th><th scope=col>p.value</th><th scope=col>parameter</th><th scope=col>conf.low</th><th scope=col>conf.high</th><th scope=col>method</th><th scope=col>alternative</th></tr>\n",
       "\t<tr><th scope=col>&lt;fct&gt;</th><th scope=col>&lt;fct&gt;</th><th scope=col>&lt;dbl&gt;</th><th scope=col>&lt;dbl&gt;</th><th scope=col>&lt;dbl&gt;</th><th scope=col>&lt;dbl&gt;</th><th scope=col>&lt;dbl&gt;</th><th scope=col>&lt;dbl&gt;</th><th scope=col>&lt;chr&gt;</th><th scope=col>&lt;chr&gt;</th></tr>\n",
       "</thead>\n",
       "<tbody>\n",
       "\t<tr><td>Child</td><td>5R4E</td><td>54.627040</td><td>-3.645184</td><td>1.678017e-03</td><td>12</td><td>     -Inf</td><td>76.81184</td><td>One Sample t-test</td><td>less   </td></tr>\n",
       "\t<tr><td>Child</td><td>3R6E</td><td> 7.142857</td><td>-1.000600</td><td>8.221750e-01</td><td> 6</td><td>-6.737002</td><td>     Inf</td><td>One Sample t-test</td><td>greater</td></tr>\n",
       "\t<tr><td>Adult</td><td>5R4E</td><td>71.117424</td><td>-3.266004</td><td>6.874972e-03</td><td> 7</td><td>     -Inf</td><td>87.87194</td><td>One Sample t-test</td><td>less   </td></tr>\n",
       "\t<tr><td>Adult</td><td>3R6E</td><td>63.095238</td><td>12.177745</td><td>9.324685e-06</td><td> 6</td><td>55.307477</td><td>     Inf</td><td>One Sample t-test</td><td>greater</td></tr>\n",
       "</tbody>\n",
       "</table>\n"
      ],
      "text/latex": [
       "A grouped\\_df: 4 × 10\n",
       "\\begin{tabular}{llllllllll}\n",
       " age\\_group & condition & estimate & statistic & p.value & parameter & conf.low & conf.high & method & alternative\\\\\n",
       " <fct> & <fct> & <dbl> & <dbl> & <dbl> & <dbl> & <dbl> & <dbl> & <chr> & <chr>\\\\\n",
       "\\hline\n",
       "\t Child & 5R4E & 54.627040 & -3.645184 & 1.678017e-03 & 12 &      -Inf & 76.81184 & One Sample t-test & less   \\\\\n",
       "\t Child & 3R6E &  7.142857 & -1.000600 & 8.221750e-01 &  6 & -6.737002 &      Inf & One Sample t-test & greater\\\\\n",
       "\t Adult & 5R4E & 71.117424 & -3.266004 & 6.874972e-03 &  7 &      -Inf & 87.87194 & One Sample t-test & less   \\\\\n",
       "\t Adult & 3R6E & 63.095238 & 12.177745 & 9.324685e-06 &  6 & 55.307477 &      Inf & One Sample t-test & greater\\\\\n",
       "\\end{tabular}\n"
      ],
      "text/markdown": [
       "\n",
       "A grouped_df: 4 × 10\n",
       "\n",
       "| age_group &lt;fct&gt; | condition &lt;fct&gt; | estimate &lt;dbl&gt; | statistic &lt;dbl&gt; | p.value &lt;dbl&gt; | parameter &lt;dbl&gt; | conf.low &lt;dbl&gt; | conf.high &lt;dbl&gt; | method &lt;chr&gt; | alternative &lt;chr&gt; |\n",
       "|---|---|---|---|---|---|---|---|---|---|\n",
       "| Child | 5R4E | 54.627040 | -3.645184 | 1.678017e-03 | 12 |      -Inf | 76.81184 | One Sample t-test | less    |\n",
       "| Child | 3R6E |  7.142857 | -1.000600 | 8.221750e-01 |  6 | -6.737002 |      Inf | One Sample t-test | greater |\n",
       "| Adult | 5R4E | 71.117424 | -3.266004 | 6.874972e-03 |  7 |      -Inf | 87.87194 | One Sample t-test | less    |\n",
       "| Adult | 3R6E | 63.095238 | 12.177745 | 9.324685e-06 |  6 | 55.307477 |      Inf | One Sample t-test | greater |\n",
       "\n"
      ],
      "text/plain": [
       "  age_group condition estimate  statistic p.value      parameter conf.low \n",
       "1 Child     5R4E      54.627040 -3.645184 1.678017e-03 12             -Inf\n",
       "2 Child     3R6E       7.142857 -1.000600 8.221750e-01  6        -6.737002\n",
       "3 Adult     5R4E      71.117424 -3.266004 6.874972e-03  7             -Inf\n",
       "4 Adult     3R6E      63.095238 12.177745 9.324685e-06  6        55.307477\n",
       "  conf.high method            alternative\n",
       "1 76.81184  One Sample t-test less       \n",
       "2      Inf  One Sample t-test greater    \n",
       "3 87.87194  One Sample t-test less       \n",
       "4      Inf  One Sample t-test greater    "
      ]
     },
     "metadata": {},
     "output_type": "display_data"
    }
   ],
   "source": [
    "# do a one sample ttest against the Tolerance Principle's predictions\n",
    "exp2_production %>% \n",
    "  filter(marker_type %in% c(\"R\")) %>%  \n",
    "  mutate(mu = ifelse(condition == \"5R4E\", 100, 14.29),\n",
    "        alt = ifelse(condition == \"5R4E\", \"less\", \"greater\"))%>%\n",
    "  group_by(age_group, condition) %>%\n",
    "  do(tidy(t.test(x=.$usage, mu=min(.$mu),  data=., alternative=min(.$alt)))) "
   ]
  },
  {
   "cell_type": "markdown",
   "metadata": {},
   "source": [
    "The results here are different. Kids still use the regualar form not greater than chance in 3R6E, but in 5R4E, they use it signficantly less than 100%. Adults behave the same as in experiment 1: using the regular form significantly less than all the time in 5R4E and signficaintly greater than chance in the 3R6E condition. "
   ]
  },
  {
   "cell_type": "markdown",
   "metadata": {},
   "source": [
    "#### logistic mixed effects regression\n",
    "\n",
    "Next we'll use a logistic mixed effects model to predict use of the regular form by condition in kids, then a seperate model for adults. After that, we'll do a model with both, including age_group as an interaction term. We're using dummy coding here and a simple random effects structure (1|random_id). "
   ]
  },
  {
   "cell_type": "code",
   "execution_count": 21,
   "metadata": {},
   "outputs": [
    {
     "data": {
      "text/plain": [
       "Generalized linear mixed model fit by maximum likelihood (Laplace\n",
       "  Approximation) [glmerMod]\n",
       " Family: binomial  ( logit )\n",
       "Formula: regular_form ~ condition + (1 | random_id)\n",
       "   Data: filter(exp2_prod, corr_noun == \"true\", age_group == \"child\")\n",
       "\n",
       "     AIC      BIC   logLik deviance df.resid \n",
       "   124.1    134.3    -59.0    118.1      221 \n",
       "\n",
       "Scaled residuals: \n",
       "     Min       1Q   Median       3Q      Max \n",
       "-2.11416 -0.12161 -0.01698  0.09782  3.12917 \n",
       "\n",
       "Random effects:\n",
       " Groups    Name        Variance Std.Dev.\n",
       " random_id (Intercept) 30.71    5.542   \n",
       "Number of obs: 224, groups:  random_id, 20\n",
       "\n",
       "Fixed effects:\n",
       "              Estimate Std. Error z value Pr(>|z|)   \n",
       "(Intercept)     -8.045      2.480  -3.245  0.00118 **\n",
       "condition5R4E    9.202      3.376   2.726  0.00641 **\n",
       "---\n",
       "Signif. codes:  0 ‘***’ 0.001 ‘**’ 0.01 ‘*’ 0.05 ‘.’ 0.1 ‘ ’ 1\n",
       "\n",
       "Correlation of Fixed Effects:\n",
       "            (Intr)\n",
       "conditn5R4E -0.824"
      ]
     },
     "metadata": {},
     "output_type": "display_data"
    }
   ],
   "source": [
    "# kid model\n",
    "logme_exp2_kids <- glmer(regular_form ~ condition + (1|random_id), \n",
    "                         family = \"binomial\",\n",
    "                         data = filter(exp2_prod, corr_noun == \"true\", age_group == \"child\"))\n",
    "summary(logme_exp2_kids)"
   ]
  },
  {
   "cell_type": "markdown",
   "metadata": {},
   "source": [
    "As predicted, children use the regular form signficantly less than chance in the 3R6E condition (reference level) and signficantly more in the 5R4E condition. Again, this doesn't really test our specific hypotheses: that they'll use it 100% of the time in 5R4E and no more than chance in 3R6E, but I'm including it here to be complete. "
   ]
  },
  {
   "cell_type": "code",
   "execution_count": 22,
   "metadata": {},
   "outputs": [
    {
     "data": {
      "text/plain": [
       "Generalized linear mixed model fit by maximum likelihood (Laplace\n",
       "  Approximation) [glmerMod]\n",
       " Family: binomial  ( logit )\n",
       "Formula: regular_form ~ condition + (1 | random_id)\n",
       "   Data: filter(exp2_prod, corr_noun == \"true\", age_group == \"adult\")\n",
       "\n",
       "     AIC      BIC   logLik deviance df.resid \n",
       "   226.4    236.0   -110.2    220.4      176 \n",
       "\n",
       "Scaled residuals: \n",
       "    Min      1Q  Median      3Q     Max \n",
       "-1.8986 -1.1345  0.5267  0.7278  1.0066 \n",
       "\n",
       "Random effects:\n",
       " Groups    Name        Variance Std.Dev.\n",
       " random_id (Intercept) 0.4219   0.6495  \n",
       "Number of obs: 179, groups:  random_id, 15\n",
       "\n",
       "Fixed effects:\n",
       "              Estimate Std. Error z value Pr(>|z|)  \n",
       "(Intercept)     0.5702     0.3388   1.683   0.0923 .\n",
       "condition5R4E   0.4564     0.4788   0.953   0.3405  \n",
       "---\n",
       "Signif. codes:  0 ‘***’ 0.001 ‘**’ 0.01 ‘*’ 0.05 ‘.’ 0.1 ‘ ’ 1\n",
       "\n",
       "Correlation of Fixed Effects:\n",
       "            (Intr)\n",
       "conditn5R4E -0.700"
      ]
     },
     "metadata": {},
     "output_type": "display_data"
    }
   ],
   "source": [
    "# adult model\n",
    "logme_exp2_adults <- glmer(regular_form ~ condition + (1|random_id), \n",
    "                           family = \"binomial\",\n",
    "                           data = filter(exp2_prod, corr_noun == \"true\", age_group == \"adult\"))\n",
    "summary(logme_exp2_adults)"
   ]
  },
  {
   "cell_type": "markdown",
   "metadata": {},
   "source": [
    "With adults no significant difference in use of the regular form across conditions. "
   ]
  },
  {
   "cell_type": "code",
   "execution_count": 23,
   "metadata": {},
   "outputs": [
    {
     "data": {
      "text/plain": [
       "Generalized linear mixed model fit by maximum likelihood (Laplace\n",
       "  Approximation) [glmerMod]\n",
       " Family: binomial  ( logit )\n",
       "Formula: regular_form ~ condition * age_group + (1 | random_id)\n",
       "   Data: filter(exp2_prod, corr_noun == \"true\")\n",
       "\n",
       "     AIC      BIC   logLik deviance df.resid \n",
       "   368.7    388.7   -179.4    358.7      398 \n",
       "\n",
       "Scaled residuals: \n",
       "    Min      1Q  Median      3Q     Max \n",
       "-2.2301 -0.2595  0.1658  0.4916  2.7524 \n",
       "\n",
       "Random effects:\n",
       " Groups    Name        Variance Std.Dev.\n",
       " random_id (Intercept) 6.375    2.525   \n",
       "Number of obs: 403, groups:  random_id, 35\n",
       "\n",
       "Fixed effects:\n",
       "                             Estimate Std. Error z value Pr(>|z|)   \n",
       "(Intercept)                    0.6194     0.9853   0.629  0.52957   \n",
       "condition5R4E                  0.9282     1.3914   0.667  0.50472   \n",
       "age_groupchild                -5.8239     1.7796  -3.273  0.00107 **\n",
       "condition5R4E:age_groupchild   4.7968     2.1633   2.217  0.02660 * \n",
       "---\n",
       "Signif. codes:  0 ‘***’ 0.001 ‘**’ 0.01 ‘*’ 0.05 ‘.’ 0.1 ‘ ’ 1\n",
       "\n",
       "Correlation of Fixed Effects:\n",
       "            (Intr) cn5R4E ag_grp\n",
       "conditn5R4E -0.708              \n",
       "age_grpchld -0.555  0.354       \n",
       "cndtn5R4E:_  0.456 -0.608 -0.812"
      ]
     },
     "metadata": {},
     "output_type": "display_data"
    }
   ],
   "source": [
    "# both model with age interaction\n",
    "logme_exp2_both <- glmer(regular_form ~ condition * age_group + (1|random_id), \n",
    "                                family = \"binomial\", \n",
    "                                data = filter(exp2_prod, corr_noun == \"true\"))\n",
    "summary(logme_exp2_both)"
   ]
  },
  {
   "cell_type": "markdown",
   "metadata": {},
   "source": [
    "Same result as experiment 1: children are significantly less likely to use the regular form than adults, but this depends on condition. Children in the 5R4E conditon are signifcantly more likely to use the regular form. \n",
    "\n",
    "Again, we aren't testing our actual a-priori hypothesis here: that children will use the regular for 100% of the time in the 5R4E condition and no more than chance in 3R6E, but I'm including the regressions to be complete."
   ]
  },
  {
   "cell_type": "markdown",
   "metadata": {},
   "source": [
    "## personal TP for children\n",
    "\n",
    "Some kids in 5R4E behaved categorically, but not as the TP would predict. We decided to use their rating test to calculate a personal Tolerance Principle for each kid, based on the number of nouns they know. "
   ]
  },
  {
   "cell_type": "code",
   "execution_count": 24,
   "metadata": {},
   "outputs": [],
   "source": [
    "personal_tp <- exp2_rate %>% \n",
    "\n",
    "    # make sure age_group is a factor\n",
    "    mutate(age_group = factor(age_group, labels = c(\"Adult\", \"Child\"))) %>%\n",
    "\n",
    "    # group by participant and see the pcnt correct for each noun\n",
    "    group_by(age_group, condition, random_id, noun, correct_choice) %>%\n",
    "    summarise(n_correct = sum(is_correct), n = n(), pcnt_corr = n_correct/n*100) %>%\n",
    "    \n",
    "    # if they got 100% correct, mark as learned\n",
    "    mutate(learned = ifelse(pcnt_corr == 100, 1, 0)) %>%\n",
    "\n",
    "    # get whether the noun was a regular or exception in the input\n",
    "    mutate(form = ifelse(correct_choice == \"ka\", \"R\", \"e\")) %>%\n",
    "\n",
    "    # count how many each participant learned for R and e\n",
    "    group_by(age_group, condition, random_id, form) %>%\n",
    "    summarise(n_learned = sum(learned)) %>%\n",
    "\n",
    "    # spread R and e out so we can calcuate personal TP\n",
    "    spread(form, n_learned) %>%\n",
    "    ungroup() %>%\n",
    "\n",
    "    # let's get their N (how many they learned total) and calculate personal TP \n",
    "    mutate( \n",
    "        N = e + R, \n",
    "        personalTP = N/log(N),\n",
    "        prediction = ifelse(R > 1, ifelse(e > personalTP, \"Unproductive\", \"Productive\"), \"Unproductive\"))\n",
    "    "
   ]
  },
  {
   "cell_type": "code",
   "execution_count": 25,
   "metadata": {},
   "outputs": [],
   "source": [
    "kid_prod_and_pTP <- personal_tp %>%\n",
    "\n",
    "    # join the production data to the personal_tp data\n",
    "    left_join(exp2_production, by = c(\"age_group\", \"condition\", \"random_id\")) %>%\n",
    "\n",
    "    # get the categorical kids use of regular form\n",
    "    filter(age_group == \"Child\", n > 5, !between(usage, 15, 99), marker_type == \"R\") %>%\n",
    "\n",
    "    # select the relevant columns\n",
    "    select(age_group, condition, random_id, prediction, usage) %>%\n",
    "    mutate(condition = factor(condition, levels = c(\"5R4E\", \"3R6E\"))) %>%\n",
    "    arrange(prediction, random_id)"
   ]
  },
  {
   "cell_type": "code",
   "execution_count": 26,
   "metadata": {},
   "outputs": [
    {
     "data": {
      "text/html": [
       "<table class=\"dataframe\">\n",
       "<caption>A tibble: 16 × 5</caption>\n",
       "<thead>\n",
       "\t<tr><th scope=col>age_group</th><th scope=col>condition</th><th scope=col>random_id</th><th scope=col>prediction</th><th scope=col>usage</th></tr>\n",
       "\t<tr><th scope=col>&lt;fct&gt;</th><th scope=col>&lt;fct&gt;</th><th scope=col>&lt;chr&gt;</th><th scope=col>&lt;chr&gt;</th><th scope=col>&lt;dbl&gt;</th></tr>\n",
       "</thead>\n",
       "<tbody>\n",
       "\t<tr><td>Child</td><td>5R4E</td><td>1e9jQang</td><td>Productive  </td><td>100.000000</td></tr>\n",
       "\t<tr><td>Child</td><td>5R4E</td><td>cMHNPS0S</td><td>Productive  </td><td>100.000000</td></tr>\n",
       "\t<tr><td>Child</td><td>5R4E</td><td>lEvuNZdV</td><td>Productive  </td><td>100.000000</td></tr>\n",
       "\t<tr><td>Child</td><td>5R4E</td><td>OXq608k0</td><td>Productive  </td><td>100.000000</td></tr>\n",
       "\t<tr><td>Child</td><td>5R4E</td><td>sSeSQr3C</td><td>Productive  </td><td>100.000000</td></tr>\n",
       "\t<tr><td>Child</td><td>5R4E</td><td>XP2fHc4D</td><td>Productive  </td><td>  0.000000</td></tr>\n",
       "\t<tr><td>Child</td><td>3R6E</td><td>0t5IeYAg</td><td>Unproductive</td><td>  0.000000</td></tr>\n",
       "\t<tr><td>Child</td><td>5R4E</td><td>4OBi0SLE</td><td>Unproductive</td><td> 10.000000</td></tr>\n",
       "\t<tr><td>Child</td><td>3R6E</td><td>c6xkBiUK</td><td>Unproductive</td><td>  0.000000</td></tr>\n",
       "\t<tr><td>Child</td><td>5R4E</td><td>CImhrbtp</td><td>Unproductive</td><td>  0.000000</td></tr>\n",
       "\t<tr><td>Child</td><td>3R6E</td><td>Cy0Va2Gj</td><td>Unproductive</td><td>  0.000000</td></tr>\n",
       "\t<tr><td>Child</td><td>3R6E</td><td>fenYigZ4</td><td>Unproductive</td><td>  0.000000</td></tr>\n",
       "\t<tr><td>Child</td><td>3R6E</td><td>l6ByrfhD</td><td>Unproductive</td><td>  0.000000</td></tr>\n",
       "\t<tr><td>Child</td><td>5R4E</td><td>NgJXGU3i</td><td>Unproductive</td><td>  8.333333</td></tr>\n",
       "\t<tr><td>Child</td><td>5R4E</td><td>WjBJQwpl</td><td>Unproductive</td><td>  0.000000</td></tr>\n",
       "\t<tr><td>Child</td><td>3R6E</td><td>zpzxpF7b</td><td>Unproductive</td><td>  0.000000</td></tr>\n",
       "</tbody>\n",
       "</table>\n"
      ],
      "text/latex": [
       "A tibble: 16 × 5\n",
       "\\begin{tabular}{lllll}\n",
       " age\\_group & condition & random\\_id & prediction & usage\\\\\n",
       " <fct> & <fct> & <chr> & <chr> & <dbl>\\\\\n",
       "\\hline\n",
       "\t Child & 5R4E & 1e9jQang & Productive   & 100.000000\\\\\n",
       "\t Child & 5R4E & cMHNPS0S & Productive   & 100.000000\\\\\n",
       "\t Child & 5R4E & lEvuNZdV & Productive   & 100.000000\\\\\n",
       "\t Child & 5R4E & OXq608k0 & Productive   & 100.000000\\\\\n",
       "\t Child & 5R4E & sSeSQr3C & Productive   & 100.000000\\\\\n",
       "\t Child & 5R4E & XP2fHc4D & Productive   &   0.000000\\\\\n",
       "\t Child & 3R6E & 0t5IeYAg & Unproductive &   0.000000\\\\\n",
       "\t Child & 5R4E & 4OBi0SLE & Unproductive &  10.000000\\\\\n",
       "\t Child & 3R6E & c6xkBiUK & Unproductive &   0.000000\\\\\n",
       "\t Child & 5R4E & CImhrbtp & Unproductive &   0.000000\\\\\n",
       "\t Child & 3R6E & Cy0Va2Gj & Unproductive &   0.000000\\\\\n",
       "\t Child & 3R6E & fenYigZ4 & Unproductive &   0.000000\\\\\n",
       "\t Child & 3R6E & l6ByrfhD & Unproductive &   0.000000\\\\\n",
       "\t Child & 5R4E & NgJXGU3i & Unproductive &   8.333333\\\\\n",
       "\t Child & 5R4E & WjBJQwpl & Unproductive &   0.000000\\\\\n",
       "\t Child & 3R6E & zpzxpF7b & Unproductive &   0.000000\\\\\n",
       "\\end{tabular}\n"
      ],
      "text/markdown": [
       "\n",
       "A tibble: 16 × 5\n",
       "\n",
       "| age_group &lt;fct&gt; | condition &lt;fct&gt; | random_id &lt;chr&gt; | prediction &lt;chr&gt; | usage &lt;dbl&gt; |\n",
       "|---|---|---|---|---|\n",
       "| Child | 5R4E | 1e9jQang | Productive   | 100.000000 |\n",
       "| Child | 5R4E | cMHNPS0S | Productive   | 100.000000 |\n",
       "| Child | 5R4E | lEvuNZdV | Productive   | 100.000000 |\n",
       "| Child | 5R4E | OXq608k0 | Productive   | 100.000000 |\n",
       "| Child | 5R4E | sSeSQr3C | Productive   | 100.000000 |\n",
       "| Child | 5R4E | XP2fHc4D | Productive   |   0.000000 |\n",
       "| Child | 3R6E | 0t5IeYAg | Unproductive |   0.000000 |\n",
       "| Child | 5R4E | 4OBi0SLE | Unproductive |  10.000000 |\n",
       "| Child | 3R6E | c6xkBiUK | Unproductive |   0.000000 |\n",
       "| Child | 5R4E | CImhrbtp | Unproductive |   0.000000 |\n",
       "| Child | 3R6E | Cy0Va2Gj | Unproductive |   0.000000 |\n",
       "| Child | 3R6E | fenYigZ4 | Unproductive |   0.000000 |\n",
       "| Child | 3R6E | l6ByrfhD | Unproductive |   0.000000 |\n",
       "| Child | 5R4E | NgJXGU3i | Unproductive |   8.333333 |\n",
       "| Child | 5R4E | WjBJQwpl | Unproductive |   0.000000 |\n",
       "| Child | 3R6E | zpzxpF7b | Unproductive |   0.000000 |\n",
       "\n"
      ],
      "text/plain": [
       "   age_group condition random_id prediction   usage     \n",
       "1  Child     5R4E      1e9jQang  Productive   100.000000\n",
       "2  Child     5R4E      cMHNPS0S  Productive   100.000000\n",
       "3  Child     5R4E      lEvuNZdV  Productive   100.000000\n",
       "4  Child     5R4E      OXq608k0  Productive   100.000000\n",
       "5  Child     5R4E      sSeSQr3C  Productive   100.000000\n",
       "6  Child     5R4E      XP2fHc4D  Productive     0.000000\n",
       "7  Child     3R6E      0t5IeYAg  Unproductive   0.000000\n",
       "8  Child     5R4E      4OBi0SLE  Unproductive  10.000000\n",
       "9  Child     3R6E      c6xkBiUK  Unproductive   0.000000\n",
       "10 Child     5R4E      CImhrbtp  Unproductive   0.000000\n",
       "11 Child     3R6E      Cy0Va2Gj  Unproductive   0.000000\n",
       "12 Child     3R6E      fenYigZ4  Unproductive   0.000000\n",
       "13 Child     3R6E      l6ByrfhD  Unproductive   0.000000\n",
       "14 Child     5R4E      NgJXGU3i  Unproductive   8.333333\n",
       "15 Child     5R4E      WjBJQwpl  Unproductive   0.000000\n",
       "16 Child     3R6E      zpzxpF7b  Unproductive   0.000000"
      ]
     },
     "metadata": {},
     "output_type": "display_data"
    }
   ],
   "source": [
    "kid_prod_and_pTP"
   ]
  },
  {
   "cell_type": "code",
   "execution_count": 27,
   "metadata": {},
   "outputs": [
    {
     "data": {
      "image/png": "[encoded data removed]",
      "text/plain": [
       "plot without title"
      ]
     },
     "metadata": {
      "image/png": {
       "height": 300,
       "width": 600
      }
     },
     "output_type": "display_data"
    }
   ],
   "source": [
    "# figure 7 - usage of the regular form by categorical children\n",
    "options(repr.plot.width = 10, repr.plot.height = 5)\n",
    "\n",
    "by_condition <- kid_prod_and_pTP %>% mutate(grouping = \"Condition\", group = condition)\n",
    "by_personalTP <- kid_prod_and_pTP %>% mutate(grouping = \"Personal TP\", group = prediction)\n",
    "\n",
    "ggplot(rbind(by_condition, by_personalTP), aes(x = group, y = usage, fill = condition)) +\n",
    "    facet_grid(.~ grouping, scales = \"free\") +\n",
    "    coord_cartesian(ylim = c(0, 100)) +\n",
    "    geom_dotplot(binaxis='y', stackdir='center', dotsize=1.3, binwidth = 4, position = \"dodge\") +\n",
    "    stat_summary(fun.data = mean_se, geom = \"errorbar\", color = \"black\", width = 0.2) +\n",
    "    scale_fill_manual(values = c(\"black\", \"grey\")) +\n",
    "    labs(x = \"\", y = \"Usage of the regular form\") \n"
   ]
  },
  {
   "cell_type": "code",
   "execution_count": null,
   "metadata": {},
   "outputs": [],
   "source": []
  }
 ],
 "metadata": {
  "kernelspec": {
   "display_name": "R",
   "language": "R",
   "name": "ir"
  },
  "language_info": {
   "codemirror_mode": "r",
   "file_extension": ".r",
   "mimetype": "text/x-r-source",
   "name": "R",
   "pygments_lexer": "r",
   "version": "4.0.3"
  }
 },
 "nbformat": 4,
 "nbformat_minor": 4
}
